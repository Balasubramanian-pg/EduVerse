{
 "cells": [
  {
   "cell_type": "markdown",
   "metadata": {},
   "source": [
    "# Python Extract Table from PDF"
   ]
  },
  {
   "cell_type": "markdown",
   "metadata": {},
   "source": [
    "Example PDFs\n",
    "\n",
    "* McKinsey Global Institute Disruptive technologies\n",
    "\n",
    "https://www.mckinsey.com/~/media/McKinsey/Business%20Functions/McKinsey%20Digital/Our%20Insights/Disruptive%20technologies/MGI_Disruptive_technologies_Full_report_May2013.ashx\n",
    "\n",
    "* Food Calories List\n",
    "\n",
    "http://www.uncledavesenterprise.com/file/health/Food%20Calories%20List.pdf"
   ]
  },
  {
   "cell_type": "markdown",
   "metadata": {},
   "source": [
    "## With tabula-py\n",
    "\n",
    "#### Installation\n",
    "\n",
    "https://pypi.org/project/tabula-py/\n",
    "\n",
    "`pip install tabula-py`\n",
    "\n",
    "#### tabula-py docs\n",
    "\n",
    "https://www.pydoc.io/pypi/tabula-py-0.9.0/autoapi/wrapper/index.html"
   ]
  },
  {
   "cell_type": "code",
   "execution_count": null,
   "metadata": {},
   "outputs": [],
   "source": [
    "pip install tabula-py"
   ]
  },
  {
   "cell_type": "code",
   "execution_count": null,
   "metadata": {},
   "outputs": [],
   "source": [
    "from tabula import read_pdf\n",
    "from tabulate import tabulate"
   ]
  },
  {
   "cell_type": "code",
   "execution_count": null,
   "metadata": {},
   "outputs": [],
   "source": [
    "df = read_pdf(r\"C:\\Users\\ASUS\\OneDrive\\Pictures\\2021-23.pdf\",pages =57 )\n",
    "df"
   ]
  },
  {
   "cell_type": "code",
   "execution_count": null,
   "metadata": {},
   "outputs": [],
   "source": [
    "df = read_pdf(r\"C:\\Users\\ASUS\\OneDrive\\Documents\\Convaction Fees.pdf\")\n",
    "df = df.dropna(axis='columns')\n",
    "df"
   ]
  },
  {
   "cell_type": "code",
   "execution_count": null,
   "metadata": {},
   "outputs": [],
   "source": [
    "df = read_pdf(r\"C:\\Users\\ASUS\\OneDrive\\Pictures\\2021-23.pdf\",pages =57)\n",
    "print (tabulate(df))"
   ]
  },
  {
   "cell_type": "code",
   "execution_count": null,
   "metadata": {},
   "outputs": [],
   "source": [
    "df = read_pdf(\"./tmp/pdf/Food Calories List.pdf\", pages=3, output_format=\"json\")\n",
    "df"
   ]
  },
  {
   "cell_type": "code",
   "execution_count": null,
   "metadata": {},
   "outputs": [],
   "source": [
    "df = read_pdf(\"./tmp/pdf/Food Calories List.pdf\", pages='all', multiple_tables=True)\n",
    "df"
   ]
  },
  {
   "cell_type": "code",
   "execution_count": null,
   "metadata": {
    "scrolled": true
   },
   "outputs": [],
   "source": [
    "df = read_pdf(\"http://www.uncledavesenterprise.com/file/health/Food%20Calories%20List.pdf\", pages=3)\n",
    "df"
   ]
  },
  {
   "cell_type": "code",
   "execution_count": null,
   "metadata": {},
   "outputs": [],
   "source": [
    "df = read_pdf(\"./tmp/pdf/Food Calories List.pdf\", encoding = 'ISO-8859-1',\n",
    "         stream=True, area = [269.875, 12.75, 790.5, 961], pages = 4, guess = False,  pandas_options={'header':None})\n",
    "df"
   ]
  },
  {
   "cell_type": "code",
   "execution_count": null,
   "metadata": {},
   "outputs": [],
   "source": [
    "df = read_pdf(\"./tmp/pdf/output.pdf\", encoding = 'ISO-8859-1',\n",
    "         stream=True, guess = False)\n",
    "df"
   ]
  },
  {
   "cell_type": "code",
   "execution_count": null,
   "metadata": {},
   "outputs": [],
   "source": [
    "df = read_pdf(\"./tmp/pdf/output.pdf\", encoding = 'ISO-8859-1',\n",
    "         stream=True, area=[269.875, 12.75, 790.5, 961], guess = False)\n",
    "df"
   ]
  },
  {
   "cell_type": "markdown",
   "metadata": {},
   "source": [
    "## With Camelot\n",
    "\n",
    "#### Installation\n",
    "\n",
    "https://pypi.org/project/camelot-py/\n",
    "\n",
    "`pip install camelot-py`\n",
    "\n",
    "#### Camelot readme\n",
    "\n",
    "https://github.com/socialcopsdev/camelot"
   ]
  },
  {
   "cell_type": "code",
   "execution_count": null,
   "metadata": {},
   "outputs": [],
   "source": [
    "pip install camelot"
   ]
  },
  {
   "cell_type": "code",
   "execution_count": 2,
   "metadata": {},
   "outputs": [
    {
     "ename": "ModuleNotFoundError",
     "evalue": "No module named 'camelot'",
     "output_type": "error",
     "traceback": [
      "\u001b[1;31m---------------------------------------------------------------------------\u001b[0m",
      "\u001b[1;31mModuleNotFoundError\u001b[0m                       Traceback (most recent call last)",
      "Cell \u001b[1;32mIn[2], line 1\u001b[0m\n\u001b[1;32m----> 1\u001b[0m \u001b[38;5;28;01mimport\u001b[39;00m \u001b[38;5;21;01mcamelot\u001b[39;00m\n\u001b[0;32m      2\u001b[0m tables \u001b[38;5;241m=\u001b[39m camelot\u001b[38;5;241m.\u001b[39mread_pdf(\u001b[38;5;124mr\u001b[39m\u001b[38;5;124m\"\u001b[39m\u001b[38;5;124mC:\u001b[39m\u001b[38;5;124m\\\u001b[39m\u001b[38;5;124mUsers\u001b[39m\u001b[38;5;124m\\\u001b[39m\u001b[38;5;124mASUS\u001b[39m\u001b[38;5;124m\\\u001b[39m\u001b[38;5;124mOneDrive\u001b[39m\u001b[38;5;124m\\\u001b[39m\u001b[38;5;124mPictures\u001b[39m\u001b[38;5;124m\\\u001b[39m\u001b[38;5;124m2021-23.pdf\u001b[39m\u001b[38;5;124m\"\u001b[39m)\n\u001b[0;32m      3\u001b[0m tables[\u001b[38;5;241m0\u001b[39m]\u001b[38;5;241m.\u001b[39mdf[\u001b[38;5;241m1\u001b[39m:\u001b[38;5;241m3\u001b[39m]\n",
      "\u001b[1;31mModuleNotFoundError\u001b[0m: No module named 'camelot'"
     ]
    }
   ],
   "source": [
    "import camelot\n",
    "tables = camelot.read_pdf(r\"C:\\Users\\ASUS\\OneDrive\\Pictures\\2021-23.pdf\")\n",
    "tables[0].df[1:3]"
   ]
  },
  {
   "cell_type": "code",
   "execution_count": null,
   "metadata": {},
   "outputs": [],
   "source": [
    "tables1 = camelot.read_pdf(\"./tmp/pdf/MGI_Disruptive_technologies_Full_report_May2013.pdf\", pages='32', area=[269.875, 120.75, 790.5, 561])\n",
    "print (tabulate(tables1[0].df))"
   ]
  },
  {
   "cell_type": "code",
   "execution_count": null,
   "metadata": {},
   "outputs": [],
   "source": [
    "for i in range(30,35):\n",
    "    print (i)\n",
    "    tables = camelot.read_pdf(\"./tmp/pdf/MGI_Disruptive_technologies_Full_report_May2013.pdf\", pages='%d' %  i)\n",
    "    try:\n",
    "        print (tabulate(tables[0].df))\n",
    "        print (tabulate(tables[1].df))\n",
    "    except IndexError:\n",
    "        print('NOK')\n"
   ]
  },
  {
   "cell_type": "markdown",
   "metadata": {},
   "source": [
    "## Extract by PyPDF2\n",
    "\n",
    "#### Installation\n",
    "\n",
    "https://pypi.org/project/PyPDF2/\n",
    "\n",
    "`pip install PyPDF2`"
   ]
  },
  {
   "cell_type": "code",
   "execution_count": null,
   "metadata": {},
   "outputs": [],
   "source": [
    "import PyPDF2\n",
    "pdf_file = open('./tmp/pdf/Food Calories List.pdf', 'rb')\n",
    "read_pdf = PyPDF2.PdfFileReader(pdf_file)\n",
    "number_of_pages = read_pdf.getNumPages()\n",
    "page = read_pdf.getPage(2)\n",
    "page_content = page.extractText()\n",
    "print (page_content.encode('utf-8'))"
   ]
  },
  {
   "cell_type": "code",
   "execution_count": null,
   "metadata": {},
   "outputs": [],
   "source": [
    "import numpy\n",
    "\n",
    "table_list = page_content.split('\\n')\n",
    "l = numpy.array_split(table_list, len(table_list)/4)\n",
    "for i in range(0,5):\n",
    "    print(l[i])"
   ]
  },
  {
   "cell_type": "code",
   "execution_count": null,
   "metadata": {},
   "outputs": [],
   "source": []
  },
  {
   "cell_type": "code",
   "execution_count": null,
   "metadata": {},
   "outputs": [],
   "source": []
  },
  {
   "cell_type": "code",
   "execution_count": null,
   "metadata": {},
   "outputs": [],
   "source": []
  }
 ],
 "metadata": {
  "kernelspec": {
   "display_name": "Python 3",
   "language": "python",
   "name": "python3"
  },
  "language_info": {
   "codemirror_mode": {
    "name": "ipython",
    "version": 3
   },
   "file_extension": ".py",
   "mimetype": "text/x-python",
   "name": "python",
   "nbconvert_exporter": "python",
   "pygments_lexer": "ipython3",
   "version": "3.12.4"
  }
 },
 "nbformat": 4,
 "nbformat_minor": 2
}
